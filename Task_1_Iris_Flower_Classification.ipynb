{
  "cells": [
    {
      "cell_type": "markdown",
      "source": [
        "![1642532597169.jpeg](data:image/jpeg;base64,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)"
      ],
      "metadata": {
        "id": "vuurfU4BjPYg"
      },
      "id": "vuurfU4BjPYg"
    },
    {
      "cell_type": "markdown",
      "id": "427e6e13",
      "metadata": {
        "id": "427e6e13"
      },
      "source": [
        "### **Name :** <font color = #5a5a5a>Harshal Prakash Margaj<font/>\n",
        "### **Task 1 :** <font color = #5a5a5a>Iris Flower Classification<font/>\n",
        "### **Description :** <font color = #5a5a5a> Iris flower has three species; setosa, versicolor, and virginica, which differs according to their measurements. Now assume that you have the measurements of the iris flowers according to their species, and here your task is to train a machine learning model that can learn from the measurements of the iris species and classify them. Although the Scikit-learn library provides a dataset for iris flower classification, you can also download the same [dataset](https://www.kaggle.com/datasets/saurabh00007/iriscsv) from here for the task of iris flower classification with Machine Learning <font/>\n"
      ]
    },
    {
      "cell_type": "markdown",
      "id": "da2190dd",
      "metadata": {
        "id": "da2190dd"
      },
      "source": [
        "# **Importing Modules**"
      ]
    },
    {
      "cell_type": "code",
      "execution_count": 1,
      "id": "a55e3615",
      "metadata": {
        "id": "a55e3615"
      },
      "outputs": [],
      "source": [
        "import pandas as pd\n",
        "import numpy as np\n",
        "import os\n",
        "import matplotlib.pyplot as plt\n",
        "import seaborn as sns           "
      ]
    },
    {
      "cell_type": "markdown",
      "id": "3c8f31a5",
      "metadata": {
        "id": "3c8f31a5"
      },
      "source": [
        "# **Loading the data**"
      ]
    },
    {
      "cell_type": "code",
      "execution_count": 6,
      "id": "41119fbb",
      "metadata": {
        "colab": {
          "base_uri": "https://localhost:8080/",
          "height": 204
        },
        "id": "41119fbb",
        "outputId": "5fe78839-2c59-416b-a647-854a45f2a208"
      },
      "outputs": [
        {
          "output_type": "execute_result",
          "data": {
            "text/plain": [
              "   Id  SepalLengthCm  SepalWidthCm  PetalLengthCm  PetalWidthCm      Species\n",
              "0   1            5.1           3.5            1.4           0.2  Iris-setosa\n",
              "1   2            4.9           3.0            1.4           0.2  Iris-setosa\n",
              "2   3            4.7           3.2            1.3           0.2  Iris-setosa\n",
              "3   4            4.6           3.1            1.5           0.2  Iris-setosa\n",
              "4   5            5.0           3.6            1.4           0.2  Iris-setosa"
            ],
            "text/html": [
              "\n",
              "  <div id=\"df-aab99873-023f-431a-a2cb-72cb76000efd\">\n",
              "    <div class=\"colab-df-container\">\n",
              "      <div>\n",
              "<style scoped>\n",
              "    .dataframe tbody tr th:only-of-type {\n",
              "        vertical-align: middle;\n",
              "    }\n",
              "\n",
              "    .dataframe tbody tr th {\n",
              "        vertical-align: top;\n",
              "    }\n",
              "\n",
              "    .dataframe thead th {\n",
              "        text-align: right;\n",
              "    }\n",
              "</style>\n",
              "<table border=\"1\" class=\"dataframe\">\n",
              "  <thead>\n",
              "    <tr style=\"text-align: right;\">\n",
              "      <th></th>\n",
              "      <th>Id</th>\n",
              "      <th>SepalLengthCm</th>\n",
              "      <th>SepalWidthCm</th>\n",
              "      <th>PetalLengthCm</th>\n",
              "      <th>PetalWidthCm</th>\n",
              "      <th>Species</th>\n",
              "    </tr>\n",
              "  </thead>\n",
              "  <tbody>\n",
              "    <tr>\n",
              "      <th>0</th>\n",
              "      <td>1</td>\n",
              "      <td>5.1</td>\n",
              "      <td>3.5</td>\n",
              "      <td>1.4</td>\n",
              "      <td>0.2</td>\n",
              "      <td>Iris-setosa</td>\n",
              "    </tr>\n",
              "    <tr>\n",
              "      <th>1</th>\n",
              "      <td>2</td>\n",
              "      <td>4.9</td>\n",
              "      <td>3.0</td>\n",
              "      <td>1.4</td>\n",
              "      <td>0.2</td>\n",
              "      <td>Iris-setosa</td>\n",
              "    </tr>\n",
              "    <tr>\n",
              "      <th>2</th>\n",
              "      <td>3</td>\n",
              "      <td>4.7</td>\n",
              "      <td>3.2</td>\n",
              "      <td>1.3</td>\n",
              "      <td>0.2</td>\n",
              "      <td>Iris-setosa</td>\n",
              "    </tr>\n",
              "    <tr>\n",
              "      <th>3</th>\n",
              "      <td>4</td>\n",
              "      <td>4.6</td>\n",
              "      <td>3.1</td>\n",
              "      <td>1.5</td>\n",
              "      <td>0.2</td>\n",
              "      <td>Iris-setosa</td>\n",
              "    </tr>\n",
              "    <tr>\n",
              "      <th>4</th>\n",
              "      <td>5</td>\n",
              "      <td>5.0</td>\n",
              "      <td>3.6</td>\n",
              "      <td>1.4</td>\n",
              "      <td>0.2</td>\n",
              "      <td>Iris-setosa</td>\n",
              "    </tr>\n",
              "  </tbody>\n",
              "</table>\n",
              "</div>\n",
              "      <button class=\"colab-df-convert\" onclick=\"convertToInteractive('df-aab99873-023f-431a-a2cb-72cb76000efd')\"\n",
              "              title=\"Convert this dataframe to an interactive table.\"\n",
              "              style=\"display:none;\">\n",
              "        \n",
              "  <svg xmlns=\"http://www.w3.org/2000/svg\" height=\"24px\"viewBox=\"0 0 24 24\"\n",
              "       width=\"24px\">\n",
              "    <path d=\"M0 0h24v24H0V0z\" fill=\"none\"/>\n",
              "    <path d=\"M18.56 5.44l.94 2.06.94-2.06 2.06-.94-2.06-.94-.94-2.06-.94 2.06-2.06.94zm-11 1L8.5 8.5l.94-2.06 2.06-.94-2.06-.94L8.5 2.5l-.94 2.06-2.06.94zm10 10l.94 2.06.94-2.06 2.06-.94-2.06-.94-.94-2.06-.94 2.06-2.06.94z\"/><path d=\"M17.41 7.96l-1.37-1.37c-.4-.4-.92-.59-1.43-.59-.52 0-1.04.2-1.43.59L10.3 9.45l-7.72 7.72c-.78.78-.78 2.05 0 2.83L4 21.41c.39.39.9.59 1.41.59.51 0 1.02-.2 1.41-.59l7.78-7.78 2.81-2.81c.8-.78.8-2.07 0-2.86zM5.41 20L4 18.59l7.72-7.72 1.47 1.35L5.41 20z\"/>\n",
              "  </svg>\n",
              "      </button>\n",
              "      \n",
              "  <style>\n",
              "    .colab-df-container {\n",
              "      display:flex;\n",
              "      flex-wrap:wrap;\n",
              "      gap: 12px;\n",
              "    }\n",
              "\n",
              "    .colab-df-convert {\n",
              "      background-color: #E8F0FE;\n",
              "      border: none;\n",
              "      border-radius: 50%;\n",
              "      cursor: pointer;\n",
              "      display: none;\n",
              "      fill: #1967D2;\n",
              "      height: 32px;\n",
              "      padding: 0 0 0 0;\n",
              "      width: 32px;\n",
              "    }\n",
              "\n",
              "    .colab-df-convert:hover {\n",
              "      background-color: #E2EBFA;\n",
              "      box-shadow: 0px 1px 2px rgba(60, 64, 67, 0.3), 0px 1px 3px 1px rgba(60, 64, 67, 0.15);\n",
              "      fill: #174EA6;\n",
              "    }\n",
              "\n",
              "    [theme=dark] .colab-df-convert {\n",
              "      background-color: #3B4455;\n",
              "      fill: #D2E3FC;\n",
              "    }\n",
              "\n",
              "    [theme=dark] .colab-df-convert:hover {\n",
              "      background-color: #434B5C;\n",
              "      box-shadow: 0px 1px 3px 1px rgba(0, 0, 0, 0.15);\n",
              "      filter: drop-shadow(0px 1px 2px rgba(0, 0, 0, 0.3));\n",
              "      fill: #FFFFFF;\n",
              "    }\n",
              "  </style>\n",
              "\n",
              "      <script>\n",
              "        const buttonEl =\n",
              "          document.querySelector('#df-aab99873-023f-431a-a2cb-72cb76000efd button.colab-df-convert');\n",
              "        buttonEl.style.display =\n",
              "          google.colab.kernel.accessAllowed ? 'block' : 'none';\n",
              "\n",
              "        async function convertToInteractive(key) {\n",
              "          const element = document.querySelector('#df-aab99873-023f-431a-a2cb-72cb76000efd');\n",
              "          const dataTable =\n",
              "            await google.colab.kernel.invokeFunction('convertToInteractive',\n",
              "                                                     [key], {});\n",
              "          if (!dataTable) return;\n",
              "\n",
              "          const docLinkHtml = 'Like what you see? Visit the ' +\n",
              "            '<a target=\"_blank\" href=https://colab.research.google.com/notebooks/data_table.ipynb>data table notebook</a>'\n",
              "            + ' to learn more about interactive tables.';\n",
              "          element.innerHTML = '';\n",
              "          dataTable['output_type'] = 'display_data';\n",
              "          await google.colab.output.renderOutput(dataTable, element);\n",
              "          const docLink = document.createElement('div');\n",
              "          docLink.innerHTML = docLinkHtml;\n",
              "          element.appendChild(docLink);\n",
              "        }\n",
              "      </script>\n",
              "    </div>\n",
              "  </div>\n",
              "  "
            ]
          },
          "metadata": {},
          "execution_count": 6
        }
      ],
      "source": [
        "df = pd.read_csv(\"/content/Iris.csv\")\n",
        "df.head() "
      ]
    },
    {
      "cell_type": "code",
      "source": [
        "df.tail()"
      ],
      "metadata": {
        "colab": {
          "base_uri": "https://localhost:8080/",
          "height": 204
        },
        "id": "GyBfWpjVGy3e",
        "outputId": "16746c7a-1879-412b-e1ce-8130760c7bd8"
      },
      "id": "GyBfWpjVGy3e",
      "execution_count": 17,
      "outputs": [
        {
          "output_type": "execute_result",
          "data": {
            "text/plain": [
              "      Id  SepalLengthCm  SepalWidthCm  PetalLengthCm  PetalWidthCm  \\\n",
              "145  146            6.7           3.0            5.2           2.3   \n",
              "146  147            6.3           2.5            5.0           1.9   \n",
              "147  148            6.5           3.0            5.2           2.0   \n",
              "148  149            6.2           3.4            5.4           2.3   \n",
              "149  150            5.9           3.0            5.1           1.8   \n",
              "\n",
              "            Species  \n",
              "145  Iris-virginica  \n",
              "146  Iris-virginica  \n",
              "147  Iris-virginica  \n",
              "148  Iris-virginica  \n",
              "149  Iris-virginica  "
            ],
            "text/html": [
              "\n",
              "  <div id=\"df-688c6cfb-f724-4672-900a-3ffd01f891bf\">\n",
              "    <div class=\"colab-df-container\">\n",
              "      <div>\n",
              "<style scoped>\n",
              "    .dataframe tbody tr th:only-of-type {\n",
              "        vertical-align: middle;\n",
              "    }\n",
              "\n",
              "    .dataframe tbody tr th {\n",
              "        vertical-align: top;\n",
              "    }\n",
              "\n",
              "    .dataframe thead th {\n",
              "        text-align: right;\n",
              "    }\n",
              "</style>\n",
              "<table border=\"1\" class=\"dataframe\">\n",
              "  <thead>\n",
              "    <tr style=\"text-align: right;\">\n",
              "      <th></th>\n",
              "      <th>Id</th>\n",
              "      <th>SepalLengthCm</th>\n",
              "      <th>SepalWidthCm</th>\n",
              "      <th>PetalLengthCm</th>\n",
              "      <th>PetalWidthCm</th>\n",
              "      <th>Species</th>\n",
              "    </tr>\n",
              "  </thead>\n",
              "  <tbody>\n",
              "    <tr>\n",
              "      <th>145</th>\n",
              "      <td>146</td>\n",
              "      <td>6.7</td>\n",
              "      <td>3.0</td>\n",
              "      <td>5.2</td>\n",
              "      <td>2.3</td>\n",
              "      <td>Iris-virginica</td>\n",
              "    </tr>\n",
              "    <tr>\n",
              "      <th>146</th>\n",
              "      <td>147</td>\n",
              "      <td>6.3</td>\n",
              "      <td>2.5</td>\n",
              "      <td>5.0</td>\n",
              "      <td>1.9</td>\n",
              "      <td>Iris-virginica</td>\n",
              "    </tr>\n",
              "    <tr>\n",
              "      <th>147</th>\n",
              "      <td>148</td>\n",
              "      <td>6.5</td>\n",
              "      <td>3.0</td>\n",
              "      <td>5.2</td>\n",
              "      <td>2.0</td>\n",
              "      <td>Iris-virginica</td>\n",
              "    </tr>\n",
              "    <tr>\n",
              "      <th>148</th>\n",
              "      <td>149</td>\n",
              "      <td>6.2</td>\n",
              "      <td>3.4</td>\n",
              "      <td>5.4</td>\n",
              "      <td>2.3</td>\n",
              "      <td>Iris-virginica</td>\n",
              "    </tr>\n",
              "    <tr>\n",
              "      <th>149</th>\n",
              "      <td>150</td>\n",
              "      <td>5.9</td>\n",
              "      <td>3.0</td>\n",
              "      <td>5.1</td>\n",
              "      <td>1.8</td>\n",
              "      <td>Iris-virginica</td>\n",
              "    </tr>\n",
              "  </tbody>\n",
              "</table>\n",
              "</div>\n",
              "      <button class=\"colab-df-convert\" onclick=\"convertToInteractive('df-688c6cfb-f724-4672-900a-3ffd01f891bf')\"\n",
              "              title=\"Convert this dataframe to an interactive table.\"\n",
              "              style=\"display:none;\">\n",
              "        \n",
              "  <svg xmlns=\"http://www.w3.org/2000/svg\" height=\"24px\"viewBox=\"0 0 24 24\"\n",
              "       width=\"24px\">\n",
              "    <path d=\"M0 0h24v24H0V0z\" fill=\"none\"/>\n",
              "    <path d=\"M18.56 5.44l.94 2.06.94-2.06 2.06-.94-2.06-.94-.94-2.06-.94 2.06-2.06.94zm-11 1L8.5 8.5l.94-2.06 2.06-.94-2.06-.94L8.5 2.5l-.94 2.06-2.06.94zm10 10l.94 2.06.94-2.06 2.06-.94-2.06-.94-.94-2.06-.94 2.06-2.06.94z\"/><path d=\"M17.41 7.96l-1.37-1.37c-.4-.4-.92-.59-1.43-.59-.52 0-1.04.2-1.43.59L10.3 9.45l-7.72 7.72c-.78.78-.78 2.05 0 2.83L4 21.41c.39.39.9.59 1.41.59.51 0 1.02-.2 1.41-.59l7.78-7.78 2.81-2.81c.8-.78.8-2.07 0-2.86zM5.41 20L4 18.59l7.72-7.72 1.47 1.35L5.41 20z\"/>\n",
              "  </svg>\n",
              "      </button>\n",
              "      \n",
              "  <style>\n",
              "    .colab-df-container {\n",
              "      display:flex;\n",
              "      flex-wrap:wrap;\n",
              "      gap: 12px;\n",
              "    }\n",
              "\n",
              "    .colab-df-convert {\n",
              "      background-color: #E8F0FE;\n",
              "      border: none;\n",
              "      border-radius: 50%;\n",
              "      cursor: pointer;\n",
              "      display: none;\n",
              "      fill: #1967D2;\n",
              "      height: 32px;\n",
              "      padding: 0 0 0 0;\n",
              "      width: 32px;\n",
              "    }\n",
              "\n",
              "    .colab-df-convert:hover {\n",
              "      background-color: #E2EBFA;\n",
              "      box-shadow: 0px 1px 2px rgba(60, 64, 67, 0.3), 0px 1px 3px 1px rgba(60, 64, 67, 0.15);\n",
              "      fill: #174EA6;\n",
              "    }\n",
              "\n",
              "    [theme=dark] .colab-df-convert {\n",
              "      background-color: #3B4455;\n",
              "      fill: #D2E3FC;\n",
              "    }\n",
              "\n",
              "    [theme=dark] .colab-df-convert:hover {\n",
              "      background-color: #434B5C;\n",
              "      box-shadow: 0px 1px 3px 1px rgba(0, 0, 0, 0.15);\n",
              "      filter: drop-shadow(0px 1px 2px rgba(0, 0, 0, 0.3));\n",
              "      fill: #FFFFFF;\n",
              "    }\n",
              "  </style>\n",
              "\n",
              "      <script>\n",
              "        const buttonEl =\n",
              "          document.querySelector('#df-688c6cfb-f724-4672-900a-3ffd01f891bf button.colab-df-convert');\n",
              "        buttonEl.style.display =\n",
              "          google.colab.kernel.accessAllowed ? 'block' : 'none';\n",
              "\n",
              "        async function convertToInteractive(key) {\n",
              "          const element = document.querySelector('#df-688c6cfb-f724-4672-900a-3ffd01f891bf');\n",
              "          const dataTable =\n",
              "            await google.colab.kernel.invokeFunction('convertToInteractive',\n",
              "                                                     [key], {});\n",
              "          if (!dataTable) return;\n",
              "\n",
              "          const docLinkHtml = 'Like what you see? Visit the ' +\n",
              "            '<a target=\"_blank\" href=https://colab.research.google.com/notebooks/data_table.ipynb>data table notebook</a>'\n",
              "            + ' to learn more about interactive tables.';\n",
              "          element.innerHTML = '';\n",
              "          dataTable['output_type'] = 'display_data';\n",
              "          await google.colab.output.renderOutput(dataTable, element);\n",
              "          const docLink = document.createElement('div');\n",
              "          docLink.innerHTML = docLinkHtml;\n",
              "          element.appendChild(docLink);\n",
              "        }\n",
              "      </script>\n",
              "    </div>\n",
              "  </div>\n",
              "  "
            ]
          },
          "metadata": {},
          "execution_count": 17
        }
      ]
    },
    {
      "cell_type": "markdown",
      "id": "40b840d9",
      "metadata": {
        "id": "40b840d9"
      },
      "source": [
        "### **<font color = #5a5a5a>Statistics data information<font/>**"
      ]
    },
    {
      "cell_type": "code",
      "execution_count": 7,
      "id": "b3794de8",
      "metadata": {
        "scrolled": true,
        "colab": {
          "base_uri": "https://localhost:8080/",
          "height": 297
        },
        "id": "b3794de8",
        "outputId": "7913e212-bbf3-4e87-e7c3-643563817aab"
      },
      "outputs": [
        {
          "output_type": "execute_result",
          "data": {
            "text/plain": [
              "               Id  SepalLengthCm  SepalWidthCm  PetalLengthCm  PetalWidthCm\n",
              "count  150.000000     150.000000    150.000000     150.000000    150.000000\n",
              "mean    75.500000       5.843333      3.054000       3.758667      1.198667\n",
              "std     43.445368       0.828066      0.433594       1.764420      0.763161\n",
              "min      1.000000       4.300000      2.000000       1.000000      0.100000\n",
              "25%     38.250000       5.100000      2.800000       1.600000      0.300000\n",
              "50%     75.500000       5.800000      3.000000       4.350000      1.300000\n",
              "75%    112.750000       6.400000      3.300000       5.100000      1.800000\n",
              "max    150.000000       7.900000      4.400000       6.900000      2.500000"
            ],
            "text/html": [
              "\n",
              "  <div id=\"df-21a9987b-d47d-41c3-b172-5af773ef4557\">\n",
              "    <div class=\"colab-df-container\">\n",
              "      <div>\n",
              "<style scoped>\n",
              "    .dataframe tbody tr th:only-of-type {\n",
              "        vertical-align: middle;\n",
              "    }\n",
              "\n",
              "    .dataframe tbody tr th {\n",
              "        vertical-align: top;\n",
              "    }\n",
              "\n",
              "    .dataframe thead th {\n",
              "        text-align: right;\n",
              "    }\n",
              "</style>\n",
              "<table border=\"1\" class=\"dataframe\">\n",
              "  <thead>\n",
              "    <tr style=\"text-align: right;\">\n",
              "      <th></th>\n",
              "      <th>Id</th>\n",
              "      <th>SepalLengthCm</th>\n",
              "      <th>SepalWidthCm</th>\n",
              "      <th>PetalLengthCm</th>\n",
              "      <th>PetalWidthCm</th>\n",
              "    </tr>\n",
              "  </thead>\n",
              "  <tbody>\n",
              "    <tr>\n",
              "      <th>count</th>\n",
              "      <td>150.000000</td>\n",
              "      <td>150.000000</td>\n",
              "      <td>150.000000</td>\n",
              "      <td>150.000000</td>\n",
              "      <td>150.000000</td>\n",
              "    </tr>\n",
              "    <tr>\n",
              "      <th>mean</th>\n",
              "      <td>75.500000</td>\n",
              "      <td>5.843333</td>\n",
              "      <td>3.054000</td>\n",
              "      <td>3.758667</td>\n",
              "      <td>1.198667</td>\n",
              "    </tr>\n",
              "    <tr>\n",
              "      <th>std</th>\n",
              "      <td>43.445368</td>\n",
              "      <td>0.828066</td>\n",
              "      <td>0.433594</td>\n",
              "      <td>1.764420</td>\n",
              "      <td>0.763161</td>\n",
              "    </tr>\n",
              "    <tr>\n",
              "      <th>min</th>\n",
              "      <td>1.000000</td>\n",
              "      <td>4.300000</td>\n",
              "      <td>2.000000</td>\n",
              "      <td>1.000000</td>\n",
              "      <td>0.100000</td>\n",
              "    </tr>\n",
              "    <tr>\n",
              "      <th>25%</th>\n",
              "      <td>38.250000</td>\n",
              "      <td>5.100000</td>\n",
              "      <td>2.800000</td>\n",
              "      <td>1.600000</td>\n",
              "      <td>0.300000</td>\n",
              "    </tr>\n",
              "    <tr>\n",
              "      <th>50%</th>\n",
              "      <td>75.500000</td>\n",
              "      <td>5.800000</td>\n",
              "      <td>3.000000</td>\n",
              "      <td>4.350000</td>\n",
              "      <td>1.300000</td>\n",
              "    </tr>\n",
              "    <tr>\n",
              "      <th>75%</th>\n",
              "      <td>112.750000</td>\n",
              "      <td>6.400000</td>\n",
              "      <td>3.300000</td>\n",
              "      <td>5.100000</td>\n",
              "      <td>1.800000</td>\n",
              "    </tr>\n",
              "    <tr>\n",
              "      <th>max</th>\n",
              "      <td>150.000000</td>\n",
              "      <td>7.900000</td>\n",
              "      <td>4.400000</td>\n",
              "      <td>6.900000</td>\n",
              "      <td>2.500000</td>\n",
              "    </tr>\n",
              "  </tbody>\n",
              "</table>\n",
              "</div>\n",
              "      <button class=\"colab-df-convert\" onclick=\"convertToInteractive('df-21a9987b-d47d-41c3-b172-5af773ef4557')\"\n",
              "              title=\"Convert this dataframe to an interactive table.\"\n",
              "              style=\"display:none;\">\n",
              "        \n",
              "  <svg xmlns=\"http://www.w3.org/2000/svg\" height=\"24px\"viewBox=\"0 0 24 24\"\n",
              "       width=\"24px\">\n",
              "    <path d=\"M0 0h24v24H0V0z\" fill=\"none\"/>\n",
              "    <path d=\"M18.56 5.44l.94 2.06.94-2.06 2.06-.94-2.06-.94-.94-2.06-.94 2.06-2.06.94zm-11 1L8.5 8.5l.94-2.06 2.06-.94-2.06-.94L8.5 2.5l-.94 2.06-2.06.94zm10 10l.94 2.06.94-2.06 2.06-.94-2.06-.94-.94-2.06-.94 2.06-2.06.94z\"/><path d=\"M17.41 7.96l-1.37-1.37c-.4-.4-.92-.59-1.43-.59-.52 0-1.04.2-1.43.59L10.3 9.45l-7.72 7.72c-.78.78-.78 2.05 0 2.83L4 21.41c.39.39.9.59 1.41.59.51 0 1.02-.2 1.41-.59l7.78-7.78 2.81-2.81c.8-.78.8-2.07 0-2.86zM5.41 20L4 18.59l7.72-7.72 1.47 1.35L5.41 20z\"/>\n",
              "  </svg>\n",
              "      </button>\n",
              "      \n",
              "  <style>\n",
              "    .colab-df-container {\n",
              "      display:flex;\n",
              "      flex-wrap:wrap;\n",
              "      gap: 12px;\n",
              "    }\n",
              "\n",
              "    .colab-df-convert {\n",
              "      background-color: #E8F0FE;\n",
              "      border: none;\n",
              "      border-radius: 50%;\n",
              "      cursor: pointer;\n",
              "      display: none;\n",
              "      fill: #1967D2;\n",
              "      height: 32px;\n",
              "      padding: 0 0 0 0;\n",
              "      width: 32px;\n",
              "    }\n",
              "\n",
              "    .colab-df-convert:hover {\n",
              "      background-color: #E2EBFA;\n",
              "      box-shadow: 0px 1px 2px rgba(60, 64, 67, 0.3), 0px 1px 3px 1px rgba(60, 64, 67, 0.15);\n",
              "      fill: #174EA6;\n",
              "    }\n",
              "\n",
              "    [theme=dark] .colab-df-convert {\n",
              "      background-color: #3B4455;\n",
              "      fill: #D2E3FC;\n",
              "    }\n",
              "\n",
              "    [theme=dark] .colab-df-convert:hover {\n",
              "      background-color: #434B5C;\n",
              "      box-shadow: 0px 1px 3px 1px rgba(0, 0, 0, 0.15);\n",
              "      filter: drop-shadow(0px 1px 2px rgba(0, 0, 0, 0.3));\n",
              "      fill: #FFFFFF;\n",
              "    }\n",
              "  </style>\n",
              "\n",
              "      <script>\n",
              "        const buttonEl =\n",
              "          document.querySelector('#df-21a9987b-d47d-41c3-b172-5af773ef4557 button.colab-df-convert');\n",
              "        buttonEl.style.display =\n",
              "          google.colab.kernel.accessAllowed ? 'block' : 'none';\n",
              "\n",
              "        async function convertToInteractive(key) {\n",
              "          const element = document.querySelector('#df-21a9987b-d47d-41c3-b172-5af773ef4557');\n",
              "          const dataTable =\n",
              "            await google.colab.kernel.invokeFunction('convertToInteractive',\n",
              "                                                     [key], {});\n",
              "          if (!dataTable) return;\n",
              "\n",
              "          const docLinkHtml = 'Like what you see? Visit the ' +\n",
              "            '<a target=\"_blank\" href=https://colab.research.google.com/notebooks/data_table.ipynb>data table notebook</a>'\n",
              "            + ' to learn more about interactive tables.';\n",
              "          element.innerHTML = '';\n",
              "          dataTable['output_type'] = 'display_data';\n",
              "          await google.colab.output.renderOutput(dataTable, element);\n",
              "          const docLink = document.createElement('div');\n",
              "          docLink.innerHTML = docLinkHtml;\n",
              "          element.appendChild(docLink);\n",
              "        }\n",
              "      </script>\n",
              "    </div>\n",
              "  </div>\n",
              "  "
            ]
          },
          "metadata": {},
          "execution_count": 7
        }
      ],
      "source": [
        "# Generate descriptive statistics\n",
        "df.describe() "
      ]
    },
    {
      "cell_type": "markdown",
      "id": "a4600856",
      "metadata": {
        "id": "a4600856"
      },
      "source": [
        "### **<font color = #5a5a5a>Basic information about datatype<font/>**"
      ]
    },
    {
      "cell_type": "code",
      "execution_count": 8,
      "id": "00e45aa4",
      "metadata": {
        "scrolled": true,
        "colab": {
          "base_uri": "https://localhost:8080/"
        },
        "id": "00e45aa4",
        "outputId": "e54f8bd6-a3ea-4c7f-f8ea-da9b713909b9"
      },
      "outputs": [
        {
          "output_type": "stream",
          "name": "stdout",
          "text": [
            "<class 'pandas.core.frame.DataFrame'>\n",
            "RangeIndex: 150 entries, 0 to 149\n",
            "Data columns (total 6 columns):\n",
            " #   Column         Non-Null Count  Dtype  \n",
            "---  ------         --------------  -----  \n",
            " 0   Id             150 non-null    int64  \n",
            " 1   SepalLengthCm  150 non-null    float64\n",
            " 2   SepalWidthCm   150 non-null    float64\n",
            " 3   PetalLengthCm  150 non-null    float64\n",
            " 4   PetalWidthCm   150 non-null    float64\n",
            " 5   Species        150 non-null    object \n",
            "dtypes: float64(4), int64(1), object(1)\n",
            "memory usage: 7.2+ KB\n"
          ]
        }
      ],
      "source": [
        "# prints information about the DataFrame\n",
        "df.info()"
      ]
    },
    {
      "cell_type": "code",
      "execution_count": 10,
      "id": "a28fc548",
      "metadata": {
        "colab": {
          "base_uri": "https://localhost:8080/"
        },
        "id": "a28fc548",
        "outputId": "25048c31-fc67-423c-ac34-d8b37d73d16b"
      },
      "outputs": [
        {
          "output_type": "execute_result",
          "data": {
            "text/plain": [
              "Iris-setosa        50\n",
              "Iris-versicolor    50\n",
              "Iris-virginica     50\n",
              "Name: Species, dtype: int64"
            ]
          },
          "metadata": {},
          "execution_count": 10
        }
      ],
      "source": [
        "# Return a Class labels containing counts of unique values.\n",
        "df['Species'].value_counts()"
      ]
    },
    {
      "cell_type": "markdown",
      "id": "a6a56c37",
      "metadata": {
        "id": "a6a56c37"
      },
      "source": [
        "# **Preprocessing the dataset**"
      ]
    },
    {
      "cell_type": "markdown",
      "id": "cb0e7384",
      "metadata": {
        "id": "cb0e7384"
      },
      "source": [
        "### **<font color = #5a5a5a>Checking for null values<font/>**"
      ]
    },
    {
      "cell_type": "code",
      "execution_count": 11,
      "id": "d1bcd3f7",
      "metadata": {
        "scrolled": true,
        "colab": {
          "base_uri": "https://localhost:8080/"
        },
        "id": "d1bcd3f7",
        "outputId": "ae2e9c8d-9ee4-43cc-af18-065c912fbd5e"
      },
      "outputs": [
        {
          "output_type": "execute_result",
          "data": {
            "text/plain": [
              "Id               0\n",
              "SepalLengthCm    0\n",
              "SepalWidthCm     0\n",
              "PetalLengthCm    0\n",
              "PetalWidthCm     0\n",
              "Species          0\n",
              "dtype: int64"
            ]
          },
          "metadata": {},
          "execution_count": 11
        }
      ],
      "source": [
        "df.isnull().sum()"
      ]
    },
    {
      "cell_type": "code",
      "source": [
        "df.drop('Id', axis = 1, inplace = True)\n",
        "df.head()"
      ],
      "metadata": {
        "colab": {
          "base_uri": "https://localhost:8080/",
          "height": 204
        },
        "id": "1JM9Yq4GWnr2",
        "outputId": "c55afc7f-1dfa-4abf-b74b-7d15e2e9d327"
      },
      "id": "1JM9Yq4GWnr2",
      "execution_count": 34,
      "outputs": [
        {
          "output_type": "execute_result",
          "data": {
            "text/plain": [
              "   SepalLengthCm  SepalWidthCm  PetalLengthCm  PetalWidthCm      Species\n",
              "0            5.1           3.5            1.4           0.2  Iris-setosa\n",
              "1            4.9           3.0            1.4           0.2  Iris-setosa\n",
              "2            4.7           3.2            1.3           0.2  Iris-setosa\n",
              "3            4.6           3.1            1.5           0.2  Iris-setosa\n",
              "4            5.0           3.6            1.4           0.2  Iris-setosa"
            ],
            "text/html": [
              "\n",
              "  <div id=\"df-bfc4bebc-c5e4-47d1-bddb-9b396d1aad3b\">\n",
              "    <div class=\"colab-df-container\">\n",
              "      <div>\n",
              "<style scoped>\n",
              "    .dataframe tbody tr th:only-of-type {\n",
              "        vertical-align: middle;\n",
              "    }\n",
              "\n",
              "    .dataframe tbody tr th {\n",
              "        vertical-align: top;\n",
              "    }\n",
              "\n",
              "    .dataframe thead th {\n",
              "        text-align: right;\n",
              "    }\n",
              "</style>\n",
              "<table border=\"1\" class=\"dataframe\">\n",
              "  <thead>\n",
              "    <tr style=\"text-align: right;\">\n",
              "      <th></th>\n",
              "      <th>SepalLengthCm</th>\n",
              "      <th>SepalWidthCm</th>\n",
              "      <th>PetalLengthCm</th>\n",
              "      <th>PetalWidthCm</th>\n",
              "      <th>Species</th>\n",
              "    </tr>\n",
              "  </thead>\n",
              "  <tbody>\n",
              "    <tr>\n",
              "      <th>0</th>\n",
              "      <td>5.1</td>\n",
              "      <td>3.5</td>\n",
              "      <td>1.4</td>\n",
              "      <td>0.2</td>\n",
              "      <td>Iris-setosa</td>\n",
              "    </tr>\n",
              "    <tr>\n",
              "      <th>1</th>\n",
              "      <td>4.9</td>\n",
              "      <td>3.0</td>\n",
              "      <td>1.4</td>\n",
              "      <td>0.2</td>\n",
              "      <td>Iris-setosa</td>\n",
              "    </tr>\n",
              "    <tr>\n",
              "      <th>2</th>\n",
              "      <td>4.7</td>\n",
              "      <td>3.2</td>\n",
              "      <td>1.3</td>\n",
              "      <td>0.2</td>\n",
              "      <td>Iris-setosa</td>\n",
              "    </tr>\n",
              "    <tr>\n",
              "      <th>3</th>\n",
              "      <td>4.6</td>\n",
              "      <td>3.1</td>\n",
              "      <td>1.5</td>\n",
              "      <td>0.2</td>\n",
              "      <td>Iris-setosa</td>\n",
              "    </tr>\n",
              "    <tr>\n",
              "      <th>4</th>\n",
              "      <td>5.0</td>\n",
              "      <td>3.6</td>\n",
              "      <td>1.4</td>\n",
              "      <td>0.2</td>\n",
              "      <td>Iris-setosa</td>\n",
              "    </tr>\n",
              "  </tbody>\n",
              "</table>\n",
              "</div>\n",
              "      <button class=\"colab-df-convert\" onclick=\"convertToInteractive('df-bfc4bebc-c5e4-47d1-bddb-9b396d1aad3b')\"\n",
              "              title=\"Convert this dataframe to an interactive table.\"\n",
              "              style=\"display:none;\">\n",
              "        \n",
              "  <svg xmlns=\"http://www.w3.org/2000/svg\" height=\"24px\"viewBox=\"0 0 24 24\"\n",
              "       width=\"24px\">\n",
              "    <path d=\"M0 0h24v24H0V0z\" fill=\"none\"/>\n",
              "    <path d=\"M18.56 5.44l.94 2.06.94-2.06 2.06-.94-2.06-.94-.94-2.06-.94 2.06-2.06.94zm-11 1L8.5 8.5l.94-2.06 2.06-.94-2.06-.94L8.5 2.5l-.94 2.06-2.06.94zm10 10l.94 2.06.94-2.06 2.06-.94-2.06-.94-.94-2.06-.94 2.06-2.06.94z\"/><path d=\"M17.41 7.96l-1.37-1.37c-.4-.4-.92-.59-1.43-.59-.52 0-1.04.2-1.43.59L10.3 9.45l-7.72 7.72c-.78.78-.78 2.05 0 2.83L4 21.41c.39.39.9.59 1.41.59.51 0 1.02-.2 1.41-.59l7.78-7.78 2.81-2.81c.8-.78.8-2.07 0-2.86zM5.41 20L4 18.59l7.72-7.72 1.47 1.35L5.41 20z\"/>\n",
              "  </svg>\n",
              "      </button>\n",
              "      \n",
              "  <style>\n",
              "    .colab-df-container {\n",
              "      display:flex;\n",
              "      flex-wrap:wrap;\n",
              "      gap: 12px;\n",
              "    }\n",
              "\n",
              "    .colab-df-convert {\n",
              "      background-color: #E8F0FE;\n",
              "      border: none;\n",
              "      border-radius: 50%;\n",
              "      cursor: pointer;\n",
              "      display: none;\n",
              "      fill: #1967D2;\n",
              "      height: 32px;\n",
              "      padding: 0 0 0 0;\n",
              "      width: 32px;\n",
              "    }\n",
              "\n",
              "    .colab-df-convert:hover {\n",
              "      background-color: #E2EBFA;\n",
              "      box-shadow: 0px 1px 2px rgba(60, 64, 67, 0.3), 0px 1px 3px 1px rgba(60, 64, 67, 0.15);\n",
              "      fill: #174EA6;\n",
              "    }\n",
              "\n",
              "    [theme=dark] .colab-df-convert {\n",
              "      background-color: #3B4455;\n",
              "      fill: #D2E3FC;\n",
              "    }\n",
              "\n",
              "    [theme=dark] .colab-df-convert:hover {\n",
              "      background-color: #434B5C;\n",
              "      box-shadow: 0px 1px 3px 1px rgba(0, 0, 0, 0.15);\n",
              "      filter: drop-shadow(0px 1px 2px rgba(0, 0, 0, 0.3));\n",
              "      fill: #FFFFFF;\n",
              "    }\n",
              "  </style>\n",
              "\n",
              "      <script>\n",
              "        const buttonEl =\n",
              "          document.querySelector('#df-bfc4bebc-c5e4-47d1-bddb-9b396d1aad3b button.colab-df-convert');\n",
              "        buttonEl.style.display =\n",
              "          google.colab.kernel.accessAllowed ? 'block' : 'none';\n",
              "\n",
              "        async function convertToInteractive(key) {\n",
              "          const element = document.querySelector('#df-bfc4bebc-c5e4-47d1-bddb-9b396d1aad3b');\n",
              "          const dataTable =\n",
              "            await google.colab.kernel.invokeFunction('convertToInteractive',\n",
              "                                                     [key], {});\n",
              "          if (!dataTable) return;\n",
              "\n",
              "          const docLinkHtml = 'Like what you see? Visit the ' +\n",
              "            '<a target=\"_blank\" href=https://colab.research.google.com/notebooks/data_table.ipynb>data table notebook</a>'\n",
              "            + ' to learn more about interactive tables.';\n",
              "          element.innerHTML = '';\n",
              "          dataTable['output_type'] = 'display_data';\n",
              "          await google.colab.output.renderOutput(dataTable, element);\n",
              "          const docLink = document.createElement('div');\n",
              "          docLink.innerHTML = docLinkHtml;\n",
              "          element.appendChild(docLink);\n",
              "        }\n",
              "      </script>\n",
              "    </div>\n",
              "  </div>\n",
              "  "
            ]
          },
          "metadata": {},
          "execution_count": 34
        }
      ]
    },
    {
      "cell_type": "markdown",
      "id": "87573d57",
      "metadata": {
        "id": "87573d57"
      },
      "source": [
        "# **Exploratory Data Analysis of dataset**"
      ]
    },
    {
      "cell_type": "markdown",
      "id": "e6d2d099",
      "metadata": {
        "id": "e6d2d099"
      },
      "source": [
        "### **<font color = #5a5a5a>Pairplot<font/>**"
      ]
    },
    {
      "cell_type": "code",
      "execution_count": 35,
      "id": "0db07fed",
      "metadata": {
        "colab": {
          "base_uri": "https://localhost:8080/",
          "height": 743
        },
        "id": "0db07fed",
        "outputId": "f9e50b1a-082e-4a79-b41b-f18c88aa83e8"
      },
      "outputs": [
        {
          "output_type": "execute_result",
          "data": {
            "text/plain": [
              "<seaborn.axisgrid.PairGrid at 0x7fd43410db50>"
            ]
          },
          "metadata": {},
          "execution_count": 35
        },
        {
          "output_type": "display_data",
          "data": {
            "text/plain": [
              "<Figure size 823.25x720 with 20 Axes>"
            ],
            "image/png": "[encoded data removed]"
          },
          "metadata": {
            "needs_background": "light"
          }
        }
      ],
      "source": [
        "sns.pairplot(df, hue='Species')"
      ]
    },
    {
      "cell_type": "markdown",
      "id": "6b8fa236",
      "metadata": {
        "id": "6b8fa236"
      },
      "source": [
        "### **<font color = #5a5a5a>Histograms<font/>**"
      ]
    },
    {
      "cell_type": "markdown",
      "id": "fcf6040c",
      "metadata": {
        "id": "fcf6040c"
      },
      "source": [
        "#### **<font color=#0E86D4>Histogram of Sepal length</font>**"
      ]
    },
    {
      "cell_type": "code",
      "execution_count": 36,
      "id": "a9c6546a",
      "metadata": {
        "scrolled": true,
        "colab": {
          "base_uri": "https://localhost:8080/",
          "height": 391
        },
        "id": "a9c6546a",
        "outputId": "0485f69d-e077-489b-8931-d8d89401d5b1"
      },
      "outputs": [
        {
          "output_type": "execute_result",
          "data": {
            "text/plain": [
              "<Axes: >"
            ]
          },
          "metadata": {},
          "execution_count": 36
        },
        {
          "output_type": "display_data",
          "data": {
            "text/plain": [
              "<Figure size 720x432 with 1 Axes>"
            ],
            "image/png": "[encoded data removed]"
          },
          "metadata": {
            "needs_background": "light"
          }
        }
      ],
      "source": [
        "df['SepalLengthCm'].hist(grid=False, figsize=(10,6), color='#86bf91', rwidth=0.9)"
      ]
    },
    {
      "cell_type": "markdown",
      "id": "cb91c559",
      "metadata": {
        "id": "cb91c559"
      },
      "source": [
        "#### **<font color=#0E86D4>Histogram of Sepal width</font>**"
      ]
    },
    {
      "cell_type": "code",
      "execution_count": 37,
      "id": "d3396bbf",
      "metadata": {
        "colab": {
          "base_uri": "https://localhost:8080/",
          "height": 391
        },
        "id": "d3396bbf",
        "outputId": "6f7638c7-c2ec-433c-a01b-1da85a608e0a"
      },
      "outputs": [
        {
          "output_type": "execute_result",
          "data": {
            "text/plain": [
              "<Axes: >"
            ]
          },
          "metadata": {},
          "execution_count": 37
        },
        {
          "output_type": "display_data",
          "data": {
            "text/plain": [
              "<Figure size 720x432 with 1 Axes>"
            ],
            "image/png": "[encoded data removed]"
          },
          "metadata": {
            "needs_background": "light"
          }
        }
      ],
      "source": [
        "df['SepalWidthCm'].hist(grid=False, figsize=(10,6), color = '#005FE1', rwidth=0.9)"
      ]
    },
    {
      "cell_type": "markdown",
      "id": "6497c532",
      "metadata": {
        "id": "6497c532"
      },
      "source": [
        "#### **<font color=#0E86D4>Histogram of Petal length</font>**"
      ]
    },
    {
      "cell_type": "code",
      "execution_count": 38,
      "id": "64469fd8",
      "metadata": {
        "colab": {
          "base_uri": "https://localhost:8080/",
          "height": 391
        },
        "id": "64469fd8",
        "outputId": "70289d90-e535-4f36-93cf-40e3312130e9"
      },
      "outputs": [
        {
          "output_type": "execute_result",
          "data": {
            "text/plain": [
              "<Axes: >"
            ]
          },
          "metadata": {},
          "execution_count": 38
        },
        {
          "output_type": "display_data",
          "data": {
            "text/plain": [
              "<Figure size 720x432 with 1 Axes>"
            ],
            "image/png": "[encoded data removed]"
          },
          "metadata": {
            "needs_background": "light"
          }
        }
      ],
      "source": [
        "df['PetalLengthCm'].hist(grid=False, figsize=(10,6), color = \"#e24a33\", rwidth=0.9)"
      ]
    },
    {
      "cell_type": "markdown",
      "id": "ea570b3b",
      "metadata": {
        "id": "ea570b3b"
      },
      "source": [
        "#### **<font color=#0E86D4>Histogram of Petal width</font>**"
      ]
    },
    {
      "cell_type": "code",
      "execution_count": 39,
      "id": "5b09bd09",
      "metadata": {
        "colab": {
          "base_uri": "https://localhost:8080/",
          "height": 391
        },
        "id": "5b09bd09",
        "outputId": "819af12f-4735-4344-b97b-a3b7c3503cd6"
      },
      "outputs": [
        {
          "output_type": "execute_result",
          "data": {
            "text/plain": [
              "<Axes: >"
            ]
          },
          "metadata": {},
          "execution_count": 39
        },
        {
          "output_type": "display_data",
          "data": {
            "text/plain": [
              "<Figure size 720x432 with 1 Axes>"
            ],
            "image/png": "[encoded data removed]"
          },
          "metadata": {
            "needs_background": "light"
          }
        }
      ],
      "source": [
        "df['PetalWidthCm'].hist(grid=False, figsize=(10,6), color = '#E4E300', rwidth=0.9)"
      ]
    },
    {
      "cell_type": "markdown",
      "id": "c5f2c15b",
      "metadata": {
        "id": "c5f2c15b"
      },
      "source": [
        "### **<font color = #5a5a5a>Scatterplot<font/>**"
      ]
    },
    {
      "cell_type": "code",
      "execution_count": 40,
      "id": "3f8cdbb3",
      "metadata": {
        "id": "3f8cdbb3"
      },
      "outputs": [],
      "source": [
        "colors = ['red', 'orange', 'blue']\n",
        "species = ['Iris-virginica', 'Iris-versicolor', 'Iris-setosa']"
      ]
    },
    {
      "cell_type": "markdown",
      "id": "5aff1fee",
      "metadata": {
        "id": "5aff1fee"
      },
      "source": [
        "#### **<font color=#0E86D4>Scatterplot of Species with Sepal length and Sepal width</font>**"
      ]
    },
    {
      "cell_type": "code",
      "execution_count": 41,
      "id": "8a39ce4e",
      "metadata": {
        "colab": {
          "base_uri": "https://localhost:8080/",
          "height": 299
        },
        "id": "8a39ce4e",
        "outputId": "a70e6ccb-f32c-4773-d10d-0b32aeb0a93b"
      },
      "outputs": [
        {
          "output_type": "execute_result",
          "data": {
            "text/plain": [
              "<matplotlib.legend.Legend at 0x7fd42a8f2c70>"
            ]
          },
          "metadata": {},
          "execution_count": 41
        },
        {
          "output_type": "display_data",
          "data": {
            "text/plain": [
              "<Figure size 432x288 with 1 Axes>"
            ],
            "image/png": "[encoded data removed]"
          },
          "metadata": {
            "needs_background": "light"
          }
        }
      ],
      "source": [
        "for i in range(3):\n",
        "  x = df[df['Species'] == species[i]]\n",
        "  plt.scatter(x['SepalLengthCm'], x['SepalWidthCm'], c = colors[i], label = species[i])\n",
        "plt.xlabel('SepalLengthCm')\n",
        "plt.ylabel('SepalWidthCm')\n",
        "plt.legend()"
      ]
    },
    {
      "cell_type": "markdown",
      "id": "d5e71589",
      "metadata": {
        "id": "d5e71589"
      },
      "source": [
        "#### **<font color=#0E86D4>Scatterplot of Species with Petal length and Petal width</font>**"
      ]
    },
    {
      "cell_type": "code",
      "execution_count": 42,
      "id": "8660d52b",
      "metadata": {
        "colab": {
          "base_uri": "https://localhost:8080/",
          "height": 296
        },
        "id": "8660d52b",
        "outputId": "d46b4827-fd09-4a14-d0a1-df84d5a8ccbb"
      },
      "outputs": [
        {
          "output_type": "execute_result",
          "data": {
            "text/plain": [
              "<matplotlib.legend.Legend at 0x7fd42a80dc40>"
            ]
          },
          "metadata": {},
          "execution_count": 42
        },
        {
          "output_type": "display_data",
          "data": {
            "text/plain": [
              "<Figure size 432x288 with 1 Axes>"
            ],
            "image/png": "[encoded data removed]"
          },
          "metadata": {
            "needs_background": "light"
          }
        }
      ],
      "source": [
        "for i in range(3):\n",
        "  x = df[df['Species'] == species[i]]\n",
        "  plt.scatter(x['PetalLengthCm'], x['PetalWidthCm'], c = colors[i], label = species[i])\n",
        "plt.xlabel('PetalLengthCm')\n",
        "plt.ylabel('PetalWidthCm')\n",
        "plt.legend()"
      ]
    },
    {
      "cell_type": "markdown",
      "id": "e0cb4bc5",
      "metadata": {
        "id": "e0cb4bc5"
      },
      "source": [
        "#### **<font color=#0E86D4>Scatterplot of Species with Sepal length and Petal length</font>**"
      ]
    },
    {
      "cell_type": "code",
      "execution_count": 43,
      "id": "321fe213",
      "metadata": {
        "colab": {
          "base_uri": "https://localhost:8080/",
          "height": 296
        },
        "id": "321fe213",
        "outputId": "142ba4a0-d9c6-4757-b68f-3136e934303c"
      },
      "outputs": [
        {
          "output_type": "execute_result",
          "data": {
            "text/plain": [
              "<matplotlib.legend.Legend at 0x7fd42a795ee0>"
            ]
          },
          "metadata": {},
          "execution_count": 43
        },
        {
          "output_type": "display_data",
          "data": {
            "text/plain": [
              "<Figure size 432x288 with 1 Axes>"
            ],
            "image/png": "[encoded data removed]"
          },
          "metadata": {
            "needs_background": "light"
          }
        }
      ],
      "source": [
        "for i in range(3):\n",
        "  x = df[df['Species'] == species[i]]\n",
        "  plt.scatter(x['SepalLengthCm'], x['PetalLengthCm'], c = colors[i], label = species[i])\n",
        "plt.xlabel('SepalLengthCm')\n",
        "plt.ylabel('PetalLengthCm')\n",
        "plt.legend()"
      ]
    },
    {
      "cell_type": "markdown",
      "id": "5d3b7e91",
      "metadata": {
        "id": "5d3b7e91"
      },
      "source": [
        "#### **<font color=#0E86D4>Scatterplot of Species with Sepal width and Petal width</font>**"
      ]
    },
    {
      "cell_type": "code",
      "execution_count": 44,
      "id": "3930565a",
      "metadata": {
        "colab": {
          "base_uri": "https://localhost:8080/",
          "height": 296
        },
        "id": "3930565a",
        "outputId": "9397cdea-c8c1-41c3-e478-eb63416ba7a5"
      },
      "outputs": [
        {
          "output_type": "execute_result",
          "data": {
            "text/plain": [
              "<matplotlib.legend.Legend at 0x7fd42a7346a0>"
            ]
          },
          "metadata": {},
          "execution_count": 44
        },
        {
          "output_type": "display_data",
          "data": {
            "text/plain": [
              "<Figure size 432x288 with 1 Axes>"
            ],
            "image/png": "[encoded data removed]"
          },
          "metadata": {
            "needs_background": "light"
          }
        }
      ],
      "source": [
        "for i in range(3):\n",
        "  x = df[df['Species'] == species[i]]\n",
        "  plt.scatter(x['SepalWidthCm'], x['PetalWidthCm'], c = colors[i], label = species[i])\n",
        "plt.xlabel('SepalWidthCm')\n",
        "plt.ylabel('PetalWidthCm')\n",
        "plt.legend()"
      ]
    },
    {
      "cell_type": "markdown",
      "id": "c127dbf7",
      "metadata": {
        "id": "c127dbf7"
      },
      "source": [
        "### **<font color = #5a5a5a>Boxplots<font/>**"
      ]
    },
    {
      "cell_type": "markdown",
      "id": "48313e5d",
      "metadata": {
        "id": "48313e5d"
      },
      "source": [
        "\n",
        "#### **<font color=#0E86D4>Boxplot of Sepal length</font>**"
      ]
    },
    {
      "cell_type": "code",
      "execution_count": 45,
      "id": "932e1f14",
      "metadata": {
        "colab": {
          "base_uri": "https://localhost:8080/",
          "height": 269
        },
        "id": "932e1f14",
        "outputId": "76ef83ac-772b-4e24-e4d8-fc4da71396ef"
      },
      "outputs": [
        {
          "output_type": "execute_result",
          "data": {
            "text/plain": [
              "<Axes: ylabel='SepalLengthCm'>"
            ]
          },
          "metadata": {},
          "execution_count": 45
        },
        {
          "output_type": "display_data",
          "data": {
            "text/plain": [
              "<Figure size 432x288 with 1 Axes>"
            ],
            "image/png": "[encoded data removed]"
          },
          "metadata": {
            "needs_background": "light"
          }
        }
      ],
      "source": [
        "sns.boxplot(y = 'SepalLengthCm', data = df)"
      ]
    },
    {
      "cell_type": "markdown",
      "id": "8baa03ad",
      "metadata": {
        "id": "8baa03ad"
      },
      "source": [
        "\n",
        "#### **<font color=#0E86D4>Boxplot of Sepal width</font>**"
      ]
    },
    {
      "cell_type": "code",
      "execution_count": 46,
      "id": "d0f3a912",
      "metadata": {
        "colab": {
          "base_uri": "https://localhost:8080/",
          "height": 271
        },
        "id": "d0f3a912",
        "outputId": "5d284375-12dd-4fd3-cdd8-4f091d4cf618"
      },
      "outputs": [
        {
          "output_type": "execute_result",
          "data": {
            "text/plain": [
              "<Axes: ylabel='SepalWidthCm'>"
            ]
          },
          "metadata": {},
          "execution_count": 46
        },
        {
          "output_type": "display_data",
          "data": {
            "text/plain": [
              "<Figure size 432x288 with 1 Axes>"
            ],
            "image/png": "[encoded data removed]"
          },
          "metadata": {
            "needs_background": "light"
          }
        }
      ],
      "source": [
        "sns.boxplot(y = 'SepalWidthCm', data = df)"
      ]
    },
    {
      "cell_type": "markdown",
      "id": "8932418a",
      "metadata": {
        "id": "8932418a"
      },
      "source": [
        "\n",
        "#### **<font color=#0E86D4>Boxplot of Petal length</font>**"
      ]
    },
    {
      "cell_type": "code",
      "execution_count": 47,
      "id": "e1bd806a",
      "metadata": {
        "colab": {
          "base_uri": "https://localhost:8080/",
          "height": 269
        },
        "id": "e1bd806a",
        "outputId": "81be9c4b-2ce8-46f6-873e-2e457d9b98e6"
      },
      "outputs": [
        {
          "output_type": "execute_result",
          "data": {
            "text/plain": [
              "<Axes: ylabel='PetalLengthCm'>"
            ]
          },
          "metadata": {},
          "execution_count": 47
        },
        {
          "output_type": "display_data",
          "data": {
            "text/plain": [
              "<Figure size 432x288 with 1 Axes>"
            ],
            "image/png": "[encoded data removed]"
          },
          "metadata": {
            "needs_background": "light"
          }
        }
      ],
      "source": [
        "sns.boxplot(y = 'PetalLengthCm', data = df)"
      ]
    },
    {
      "cell_type": "markdown",
      "id": "ece62b69",
      "metadata": {
        "id": "ece62b69"
      },
      "source": [
        "\n",
        "#### **<font color=#0E86D4>Boxplot of Petal width</font>**"
      ]
    },
    {
      "cell_type": "code",
      "execution_count": 48,
      "id": "c3594f56",
      "metadata": {
        "colab": {
          "base_uri": "https://localhost:8080/",
          "height": 270
        },
        "id": "c3594f56",
        "outputId": "36c709e0-deca-47d4-b79a-6c4b8d580880"
      },
      "outputs": [
        {
          "output_type": "execute_result",
          "data": {
            "text/plain": [
              "<Axes: ylabel='PetalWidthCm'>"
            ]
          },
          "metadata": {},
          "execution_count": 48
        },
        {
          "output_type": "display_data",
          "data": {
            "text/plain": [
              "<Figure size 432x288 with 1 Axes>"
            ],
            "image/png": "[encoded data removed]"
          },
          "metadata": {
            "needs_background": "light"
          }
        }
      ],
      "source": [
        "sns.boxplot(y = 'PetalWidthCm', data = df)"
      ]
    },
    {
      "cell_type": "markdown",
      "id": "af35995a",
      "metadata": {
        "id": "af35995a"
      },
      "source": [
        "\n",
        "#### **<font color=#0E86D4>Boxplot of Species with Sepal length</font>**"
      ]
    },
    {
      "cell_type": "code",
      "execution_count": 49,
      "id": "02ef335d",
      "metadata": {
        "colab": {
          "base_uri": "https://localhost:8080/",
          "height": 296
        },
        "id": "02ef335d",
        "outputId": "32bf95ff-72fe-4b4c-c9c6-89f1ab36117b"
      },
      "outputs": [
        {
          "output_type": "execute_result",
          "data": {
            "text/plain": [
              "<Axes: xlabel='Species', ylabel='SepalLengthCm'>"
            ]
          },
          "metadata": {},
          "execution_count": 49
        },
        {
          "output_type": "display_data",
          "data": {
            "text/plain": [
              "<Figure size 432x288 with 1 Axes>"
            ],
            "image/png": "[encoded data removed]"
          },
          "metadata": {
            "needs_background": "light"
          }
        }
      ],
      "source": [
        "sns.boxplot(x = 'Species', y = 'SepalLengthCm', data = df)"
      ]
    },
    {
      "cell_type": "markdown",
      "id": "db7d2e18",
      "metadata": {
        "id": "db7d2e18"
      },
      "source": [
        "\n",
        "#### **<font color=#0E86D4>Boxplot of Species with Sepal width</font>**"
      ]
    },
    {
      "cell_type": "code",
      "execution_count": 50,
      "id": "f8fe123c",
      "metadata": {
        "colab": {
          "base_uri": "https://localhost:8080/",
          "height": 299
        },
        "id": "f8fe123c",
        "outputId": "abb4f5d5-6018-48a7-b754-29f0ed04de17"
      },
      "outputs": [
        {
          "output_type": "execute_result",
          "data": {
            "text/plain": [
              "<Axes: xlabel='Species', ylabel='SepalWidthCm'>"
            ]
          },
          "metadata": {},
          "execution_count": 50
        },
        {
          "output_type": "display_data",
          "data": {
            "text/plain": [
              "<Figure size 432x288 with 1 Axes>"
            ],
            "image/png": "[encoded data removed]"
          },
          "metadata": {
            "needs_background": "light"
          }
        }
      ],
      "source": [
        "sns.boxplot(x = 'Species', y = 'SepalWidthCm', data = df)"
      ]
    },
    {
      "cell_type": "markdown",
      "id": "7e082470",
      "metadata": {
        "id": "7e082470"
      },
      "source": [
        "\n",
        "#### **<font color=#0E86D4>Boxplot of Species with Petal length</font>**"
      ]
    },
    {
      "cell_type": "code",
      "execution_count": 51,
      "id": "1d70c206",
      "metadata": {
        "colab": {
          "base_uri": "https://localhost:8080/",
          "height": 296
        },
        "id": "1d70c206",
        "outputId": "115ad61c-396f-4ef5-e77f-f3628cfcfe77"
      },
      "outputs": [
        {
          "output_type": "execute_result",
          "data": {
            "text/plain": [
              "<Axes: xlabel='Species', ylabel='PetalLengthCm'>"
            ]
          },
          "metadata": {},
          "execution_count": 51
        },
        {
          "output_type": "display_data",
          "data": {
            "text/plain": [
              "<Figure size 432x288 with 1 Axes>"
            ],
            "image/png": "[encoded data removed]"
          },
          "metadata": {
            "needs_background": "light"
          }
        }
      ],
      "source": [
        "sns.boxplot(x = 'Species', y = 'PetalLengthCm', data = df)"
      ]
    },
    {
      "cell_type": "markdown",
      "id": "9c1b5166",
      "metadata": {
        "id": "9c1b5166"
      },
      "source": [
        "#### **<font color=#0E86D4>Boxplot of Species with Petal width</font>**"
      ]
    },
    {
      "cell_type": "code",
      "execution_count": 52,
      "id": "8378d3b2",
      "metadata": {
        "colab": {
          "base_uri": "https://localhost:8080/",
          "height": 296
        },
        "id": "8378d3b2",
        "outputId": "6f6bc0b2-8c5c-4e6a-d3a2-afb0f171d70d"
      },
      "outputs": [
        {
          "output_type": "execute_result",
          "data": {
            "text/plain": [
              "<Axes: xlabel='Species', ylabel='PetalWidthCm'>"
            ]
          },
          "metadata": {},
          "execution_count": 52
        },
        {
          "output_type": "display_data",
          "data": {
            "text/plain": [
              "<Figure size 432x288 with 1 Axes>"
            ],
            "image/png": "[encoded data removed]"
          },
          "metadata": {
            "needs_background": "light"
          }
        }
      ],
      "source": [
        "sns.boxplot(x = 'Species', y = 'PetalWidthCm', data = df)"
      ]
    },
    {
      "cell_type": "markdown",
      "id": "428cf5af",
      "metadata": {
        "id": "428cf5af"
      },
      "source": [
        "# **Correlation Matrix**"
      ]
    },
    {
      "cell_type": "code",
      "execution_count": 53,
      "id": "f43c94a4",
      "metadata": {
        "colab": {
          "base_uri": "https://localhost:8080/",
          "height": 173
        },
        "id": "f43c94a4",
        "outputId": "03797d31-e43f-40a2-e490-3ca0080edd4b"
      },
      "outputs": [
        {
          "output_type": "execute_result",
          "data": {
            "text/plain": [
              "               SepalLengthCm  SepalWidthCm  PetalLengthCm  PetalWidthCm\n",
              "SepalLengthCm       1.000000     -0.109369       0.871754      0.817954\n",
              "SepalWidthCm       -0.109369      1.000000      -0.420516     -0.356544\n",
              "PetalLengthCm       0.871754     -0.420516       1.000000      0.962757\n",
              "PetalWidthCm        0.817954     -0.356544       0.962757      1.000000"
            ],
            "text/html": [
              "\n",
              "  <div id=\"df-000d5004-dbf1-4abd-9179-82141cd420ca\">\n",
              "    <div class=\"colab-df-container\">\n",
              "      <div>\n",
              "<style scoped>\n",
              "    .dataframe tbody tr th:only-of-type {\n",
              "        vertical-align: middle;\n",
              "    }\n",
              "\n",
              "    .dataframe tbody tr th {\n",
              "        vertical-align: top;\n",
              "    }\n",
              "\n",
              "    .dataframe thead th {\n",
              "        text-align: right;\n",
              "    }\n",
              "</style>\n",
              "<table border=\"1\" class=\"dataframe\">\n",
              "  <thead>\n",
              "    <tr style=\"text-align: right;\">\n",
              "      <th></th>\n",
              "      <th>SepalLengthCm</th>\n",
              "      <th>SepalWidthCm</th>\n",
              "      <th>PetalLengthCm</th>\n",
              "      <th>PetalWidthCm</th>\n",
              "    </tr>\n",
              "  </thead>\n",
              "  <tbody>\n",
              "    <tr>\n",
              "      <th>SepalLengthCm</th>\n",
              "      <td>1.000000</td>\n",
              "      <td>-0.109369</td>\n",
              "      <td>0.871754</td>\n",
              "      <td>0.817954</td>\n",
              "    </tr>\n",
              "    <tr>\n",
              "      <th>SepalWidthCm</th>\n",
              "      <td>-0.109369</td>\n",
              "      <td>1.000000</td>\n",
              "      <td>-0.420516</td>\n",
              "      <td>-0.356544</td>\n",
              "    </tr>\n",
              "    <tr>\n",
              "      <th>PetalLengthCm</th>\n",
              "      <td>0.871754</td>\n",
              "      <td>-0.420516</td>\n",
              "      <td>1.000000</td>\n",
              "      <td>0.962757</td>\n",
              "    </tr>\n",
              "    <tr>\n",
              "      <th>PetalWidthCm</th>\n",
              "      <td>0.817954</td>\n",
              "      <td>-0.356544</td>\n",
              "      <td>0.962757</td>\n",
              "      <td>1.000000</td>\n",
              "    </tr>\n",
              "  </tbody>\n",
              "</table>\n",
              "</div>\n",
              "      <button class=\"colab-df-convert\" onclick=\"convertToInteractive('df-000d5004-dbf1-4abd-9179-82141cd420ca')\"\n",
              "              title=\"Convert this dataframe to an interactive table.\"\n",
              "              style=\"display:none;\">\n",
              "        \n",
              "  <svg xmlns=\"http://www.w3.org/2000/svg\" height=\"24px\"viewBox=\"0 0 24 24\"\n",
              "       width=\"24px\">\n",
              "    <path d=\"M0 0h24v24H0V0z\" fill=\"none\"/>\n",
              "    <path d=\"M18.56 5.44l.94 2.06.94-2.06 2.06-.94-2.06-.94-.94-2.06-.94 2.06-2.06.94zm-11 1L8.5 8.5l.94-2.06 2.06-.94-2.06-.94L8.5 2.5l-.94 2.06-2.06.94zm10 10l.94 2.06.94-2.06 2.06-.94-2.06-.94-.94-2.06-.94 2.06-2.06.94z\"/><path d=\"M17.41 7.96l-1.37-1.37c-.4-.4-.92-.59-1.43-.59-.52 0-1.04.2-1.43.59L10.3 9.45l-7.72 7.72c-.78.78-.78 2.05 0 2.83L4 21.41c.39.39.9.59 1.41.59.51 0 1.02-.2 1.41-.59l7.78-7.78 2.81-2.81c.8-.78.8-2.07 0-2.86zM5.41 20L4 18.59l7.72-7.72 1.47 1.35L5.41 20z\"/>\n",
              "  </svg>\n",
              "      </button>\n",
              "      \n",
              "  <style>\n",
              "    .colab-df-container {\n",
              "      display:flex;\n",
              "      flex-wrap:wrap;\n",
              "      gap: 12px;\n",
              "    }\n",
              "\n",
              "    .colab-df-convert {\n",
              "      background-color: #E8F0FE;\n",
              "      border: none;\n",
              "      border-radius: 50%;\n",
              "      cursor: pointer;\n",
              "      display: none;\n",
              "      fill: #1967D2;\n",
              "      height: 32px;\n",
              "      padding: 0 0 0 0;\n",
              "      width: 32px;\n",
              "    }\n",
              "\n",
              "    .colab-df-convert:hover {\n",
              "      background-color: #E2EBFA;\n",
              "      box-shadow: 0px 1px 2px rgba(60, 64, 67, 0.3), 0px 1px 3px 1px rgba(60, 64, 67, 0.15);\n",
              "      fill: #174EA6;\n",
              "    }\n",
              "\n",
              "    [theme=dark] .colab-df-convert {\n",
              "      background-color: #3B4455;\n",
              "      fill: #D2E3FC;\n",
              "    }\n",
              "\n",
              "    [theme=dark] .colab-df-convert:hover {\n",
              "      background-color: #434B5C;\n",
              "      box-shadow: 0px 1px 3px 1px rgba(0, 0, 0, 0.15);\n",
              "      filter: drop-shadow(0px 1px 2px rgba(0, 0, 0, 0.3));\n",
              "      fill: #FFFFFF;\n",
              "    }\n",
              "  </style>\n",
              "\n",
              "      <script>\n",
              "        const buttonEl =\n",
              "          document.querySelector('#df-000d5004-dbf1-4abd-9179-82141cd420ca button.colab-df-convert');\n",
              "        buttonEl.style.display =\n",
              "          google.colab.kernel.accessAllowed ? 'block' : 'none';\n",
              "\n",
              "        async function convertToInteractive(key) {\n",
              "          const element = document.querySelector('#df-000d5004-dbf1-4abd-9179-82141cd420ca');\n",
              "          const dataTable =\n",
              "            await google.colab.kernel.invokeFunction('convertToInteractive',\n",
              "                                                     [key], {});\n",
              "          if (!dataTable) return;\n",
              "\n",
              "          const docLinkHtml = 'Like what you see? Visit the ' +\n",
              "            '<a target=\"_blank\" href=https://colab.research.google.com/notebooks/data_table.ipynb>data table notebook</a>'\n",
              "            + ' to learn more about interactive tables.';\n",
              "          element.innerHTML = '';\n",
              "          dataTable['output_type'] = 'display_data';\n",
              "          await google.colab.output.renderOutput(dataTable, element);\n",
              "          const docLink = document.createElement('div');\n",
              "          docLink.innerHTML = docLinkHtml;\n",
              "          element.appendChild(docLink);\n",
              "        }\n",
              "      </script>\n",
              "    </div>\n",
              "  </div>\n",
              "  "
            ]
          },
          "metadata": {},
          "execution_count": 53
        }
      ],
      "source": [
        "# Compute pairwise correlation of columns, excluding NA/null values.\n",
        "df.corr()"
      ]
    },
    {
      "cell_type": "code",
      "execution_count": 62,
      "id": "d371e59f",
      "metadata": {
        "colab": {
          "base_uri": "https://localhost:8080/",
          "height": 409
        },
        "id": "d371e59f",
        "outputId": "1ef942cd-a1e6-43a9-de5f-104014991a0a"
      },
      "outputs": [
        {
          "output_type": "execute_result",
          "data": {
            "text/plain": [
              "<Axes: >"
            ]
          },
          "metadata": {},
          "execution_count": 62
        },
        {
          "output_type": "display_data",
          "data": {
            "text/plain": [
              "<Figure size 432x360 with 2 Axes>"
            ],
            "image/png": "[encoded data removed]"
          },
          "metadata": {
            "needs_background": "light"
          }
        }
      ],
      "source": [
        "corr = df.corr()\n",
        "fig, ax = plt.subplots(figsize = (6,5))\n",
        "sns.heatmap(corr, annot = True,  ax = ax, cmap = 'RdBu')"
      ]
    },
    {
      "cell_type": "markdown",
      "id": "8cf73eee",
      "metadata": {
        "id": "8cf73eee"
      },
      "source": [
        "# **Label Encoder**"
      ]
    },
    {
      "cell_type": "code",
      "execution_count": 63,
      "id": "b635a79e",
      "metadata": {
        "id": "b635a79e"
      },
      "outputs": [],
      "source": [
        "from sklearn.preprocessing import LabelEncoder\n",
        "le = LabelEncoder() #This transformer should be used to encode target values"
      ]
    },
    {
      "cell_type": "code",
      "execution_count": 64,
      "id": "3c52c7c0",
      "metadata": {
        "colab": {
          "base_uri": "https://localhost:8080/",
          "height": 204
        },
        "id": "3c52c7c0",
        "outputId": "cf9c0559-cf89-44fd-b1b5-69a1edc76ad3"
      },
      "outputs": [
        {
          "output_type": "execute_result",
          "data": {
            "text/plain": [
              "   SepalLengthCm  SepalWidthCm  PetalLengthCm  PetalWidthCm  Species\n",
              "0            5.1           3.5            1.4           0.2        0\n",
              "1            4.9           3.0            1.4           0.2        0\n",
              "2            4.7           3.2            1.3           0.2        0\n",
              "3            4.6           3.1            1.5           0.2        0\n",
              "4            5.0           3.6            1.4           0.2        0"
            ],
            "text/html": [
              "\n",
              "  <div id=\"df-1a6251fc-a3af-4eb3-8347-3e46d148c7cd\">\n",
              "    <div class=\"colab-df-container\">\n",
              "      <div>\n",
              "<style scoped>\n",
              "    .dataframe tbody tr th:only-of-type {\n",
              "        vertical-align: middle;\n",
              "    }\n",
              "\n",
              "    .dataframe tbody tr th {\n",
              "        vertical-align: top;\n",
              "    }\n",
              "\n",
              "    .dataframe thead th {\n",
              "        text-align: right;\n",
              "    }\n",
              "</style>\n",
              "<table border=\"1\" class=\"dataframe\">\n",
              "  <thead>\n",
              "    <tr style=\"text-align: right;\">\n",
              "      <th></th>\n",
              "      <th>SepalLengthCm</th>\n",
              "      <th>SepalWidthCm</th>\n",
              "      <th>PetalLengthCm</th>\n",
              "      <th>PetalWidthCm</th>\n",
              "      <th>Species</th>\n",
              "    </tr>\n",
              "  </thead>\n",
              "  <tbody>\n",
              "    <tr>\n",
              "      <th>0</th>\n",
              "      <td>5.1</td>\n",
              "      <td>3.5</td>\n",
              "      <td>1.4</td>\n",
              "      <td>0.2</td>\n",
              "      <td>0</td>\n",
              "    </tr>\n",
              "    <tr>\n",
              "      <th>1</th>\n",
              "      <td>4.9</td>\n",
              "      <td>3.0</td>\n",
              "      <td>1.4</td>\n",
              "      <td>0.2</td>\n",
              "      <td>0</td>\n",
              "    </tr>\n",
              "    <tr>\n",
              "      <th>2</th>\n",
              "      <td>4.7</td>\n",
              "      <td>3.2</td>\n",
              "      <td>1.3</td>\n",
              "      <td>0.2</td>\n",
              "      <td>0</td>\n",
              "    </tr>\n",
              "    <tr>\n",
              "      <th>3</th>\n",
              "      <td>4.6</td>\n",
              "      <td>3.1</td>\n",
              "      <td>1.5</td>\n",
              "      <td>0.2</td>\n",
              "      <td>0</td>\n",
              "    </tr>\n",
              "    <tr>\n",
              "      <th>4</th>\n",
              "      <td>5.0</td>\n",
              "      <td>3.6</td>\n",
              "      <td>1.4</td>\n",
              "      <td>0.2</td>\n",
              "      <td>0</td>\n",
              "    </tr>\n",
              "  </tbody>\n",
              "</table>\n",
              "</div>\n",
              "      <button class=\"colab-df-convert\" onclick=\"convertToInteractive('df-1a6251fc-a3af-4eb3-8347-3e46d148c7cd')\"\n",
              "              title=\"Convert this dataframe to an interactive table.\"\n",
              "              style=\"display:none;\">\n",
              "        \n",
              "  <svg xmlns=\"http://www.w3.org/2000/svg\" height=\"24px\"viewBox=\"0 0 24 24\"\n",
              "       width=\"24px\">\n",
              "    <path d=\"M0 0h24v24H0V0z\" fill=\"none\"/>\n",
              "    <path d=\"M18.56 5.44l.94 2.06.94-2.06 2.06-.94-2.06-.94-.94-2.06-.94 2.06-2.06.94zm-11 1L8.5 8.5l.94-2.06 2.06-.94-2.06-.94L8.5 2.5l-.94 2.06-2.06.94zm10 10l.94 2.06.94-2.06 2.06-.94-2.06-.94-.94-2.06-.94 2.06-2.06.94z\"/><path d=\"M17.41 7.96l-1.37-1.37c-.4-.4-.92-.59-1.43-.59-.52 0-1.04.2-1.43.59L10.3 9.45l-7.72 7.72c-.78.78-.78 2.05 0 2.83L4 21.41c.39.39.9.59 1.41.59.51 0 1.02-.2 1.41-.59l7.78-7.78 2.81-2.81c.8-.78.8-2.07 0-2.86zM5.41 20L4 18.59l7.72-7.72 1.47 1.35L5.41 20z\"/>\n",
              "  </svg>\n",
              "      </button>\n",
              "      \n",
              "  <style>\n",
              "    .colab-df-container {\n",
              "      display:flex;\n",
              "      flex-wrap:wrap;\n",
              "      gap: 12px;\n",
              "    }\n",
              "\n",
              "    .colab-df-convert {\n",
              "      background-color: #E8F0FE;\n",
              "      border: none;\n",
              "      border-radius: 50%;\n",
              "      cursor: pointer;\n",
              "      display: none;\n",
              "      fill: #1967D2;\n",
              "      height: 32px;\n",
              "      padding: 0 0 0 0;\n",
              "      width: 32px;\n",
              "    }\n",
              "\n",
              "    .colab-df-convert:hover {\n",
              "      background-color: #E2EBFA;\n",
              "      box-shadow: 0px 1px 2px rgba(60, 64, 67, 0.3), 0px 1px 3px 1px rgba(60, 64, 67, 0.15);\n",
              "      fill: #174EA6;\n",
              "    }\n",
              "\n",
              "    [theme=dark] .colab-df-convert {\n",
              "      background-color: #3B4455;\n",
              "      fill: #D2E3FC;\n",
              "    }\n",
              "\n",
              "    [theme=dark] .colab-df-convert:hover {\n",
              "      background-color: #434B5C;\n",
              "      box-shadow: 0px 1px 3px 1px rgba(0, 0, 0, 0.15);\n",
              "      filter: drop-shadow(0px 1px 2px rgba(0, 0, 0, 0.3));\n",
              "      fill: #FFFFFF;\n",
              "    }\n",
              "  </style>\n",
              "\n",
              "      <script>\n",
              "        const buttonEl =\n",
              "          document.querySelector('#df-1a6251fc-a3af-4eb3-8347-3e46d148c7cd button.colab-df-convert');\n",
              "        buttonEl.style.display =\n",
              "          google.colab.kernel.accessAllowed ? 'block' : 'none';\n",
              "\n",
              "        async function convertToInteractive(key) {\n",
              "          const element = document.querySelector('#df-1a6251fc-a3af-4eb3-8347-3e46d148c7cd');\n",
              "          const dataTable =\n",
              "            await google.colab.kernel.invokeFunction('convertToInteractive',\n",
              "                                                     [key], {});\n",
              "          if (!dataTable) return;\n",
              "\n",
              "          const docLinkHtml = 'Like what you see? Visit the ' +\n",
              "            '<a target=\"_blank\" href=https://colab.research.google.com/notebooks/data_table.ipynb>data table notebook</a>'\n",
              "            + ' to learn more about interactive tables.';\n",
              "          element.innerHTML = '';\n",
              "          dataTable['output_type'] = 'display_data';\n",
              "          await google.colab.output.renderOutput(dataTable, element);\n",
              "          const docLink = document.createElement('div');\n",
              "          docLink.innerHTML = docLinkHtml;\n",
              "          element.appendChild(docLink);\n",
              "        }\n",
              "      </script>\n",
              "    </div>\n",
              "  </div>\n",
              "  "
            ]
          },
          "metadata": {},
          "execution_count": 64
        }
      ],
      "source": [
        "df['Species'] = le.fit_transform(df['Species'])\n",
        "df.head() #Return the first 5 rows"
      ]
    },
    {
      "cell_type": "markdown",
      "id": "bb9fc6cd",
      "metadata": {
        "id": "bb9fc6cd"
      },
      "source": [
        "# **Model Training**"
      ]
    },
    {
      "cell_type": "markdown",
      "id": "904d10b3",
      "metadata": {
        "id": "904d10b3"
      },
      "source": [
        "\n",
        "#### **<font color=#5a5a5a>Splitting the dataset into training and testing</font>**"
      ]
    },
    {
      "cell_type": "code",
      "execution_count": 85,
      "id": "6edc239d",
      "metadata": {
        "id": "6edc239d"
      },
      "outputs": [],
      "source": [
        "from sklearn.model_selection import train_test_split\n",
        "\n",
        "X = df.drop(columns=['Species'])\n",
        "Y = df['Species']\n",
        "x_train, x_test, y_train, y_test = train_test_split(X, Y, test_size=0.2) #Split arrays or matrices into random train and test subsets."
      ]
    },
    {
      "cell_type": "markdown",
      "id": "a4a69372",
      "metadata": {
        "id": "a4a69372"
      },
      "source": [
        "\n",
        "#### **<font color=#5a5a5a>Selecting the Supervised Machine Learning Models</font>**\n"
      ]
    },
    {
      "cell_type": "code",
      "execution_count": 86,
      "id": "6b3002ab",
      "metadata": {
        "id": "6b3002ab"
      },
      "outputs": [],
      "source": [
        "from sklearn.linear_model import LogisticRegression\n",
        "from sklearn.neighbors import KNeighborsClassifier\n",
        "from sklearn.svm import SVC\n",
        "from sklearn.naive_bayes import GaussianNB\n",
        "from sklearn.tree import DecisionTreeClassifier\n",
        "from sklearn.ensemble import RandomForestClassifier\n",
        "from sklearn.metrics import accuracy_score"
      ]
    },
    {
      "cell_type": "code",
      "source": [
        "LR = LogisticRegression(solver='lbfgs', max_iter=1000)\n",
        "KNN = KNeighborsClassifier()\n",
        "SVC = SVC()\n",
        "GNB = GaussianNB()\n",
        "DTC = DecisionTreeClassifier()\n",
        "RFC = RandomForestClassifier()"
      ],
      "metadata": {
        "id": "sn5mBQwvfKvA"
      },
      "id": "sn5mBQwvfKvA",
      "execution_count": 87,
      "outputs": []
    },
    {
      "cell_type": "markdown",
      "id": "8392b05e",
      "metadata": {
        "id": "8392b05e"
      },
      "source": [
        "\n",
        "#### **<font color=#5a5a5a>Training and Evaluating the models</font>**"
      ]
    },
    {
      "cell_type": "code",
      "source": [
        "models = [LR, KNN, SVC, GNB, DTC, RFC]\n",
        "\n",
        "for model in models:\n",
        "  model.fit(x_train, y_train)\n",
        "  prediction = model.predict(x_test)\n",
        "  print(f\"Accuracy of {type(model).__name__} is {round(accuracy_score(y_test, prediction) * 100, 2)}\")"
      ],
      "metadata": {
        "colab": {
          "base_uri": "https://localhost:8080/"
        },
        "id": "Trv0auOafKqC",
        "outputId": "c3c279c9-b1b8-4746-c2f6-97a1887fd539"
      },
      "id": "Trv0auOafKqC",
      "execution_count": 88,
      "outputs": [
        {
          "output_type": "stream",
          "name": "stdout",
          "text": [
            "Accuracy of LogisticRegression is 100.0\n",
            "Accuracy of KNeighborsClassifier is 100.0\n",
            "Accuracy of SVC is 96.67\n",
            "Accuracy of GaussianNB is 96.67\n",
            "Accuracy of DecisionTreeClassifier is 96.67\n",
            "Accuracy of RandomForestClassifier is 96.67\n"
          ]
        }
      ]
    },
    {
      "cell_type": "markdown",
      "source": [
        "# **Thank You**"
      ],
      "metadata": {
        "id": "d7HQOj-oijYC"
      },
      "id": "d7HQOj-oijYC"
    }
  ],
  "metadata": {
    "kernelspec": {
      "display_name": "Python 3.9 (tensorflow)",
      "language": "python",
      "name": "tensorflow"
    },
    "language_info": {
      "codemirror_mode": {
        "name": "ipython",
        "version": 3
      },
      "file_extension": ".py",
      "mimetype": "text/x-python",
      "name": "python",
      "nbconvert_exporter": "python",
      "pygments_lexer": "ipython3",
      "version": "3.9.12"
    },
    "colab": {
      "provenance": []
    }
  },
  "nbformat": 4,
  "nbformat_minor": 5
}